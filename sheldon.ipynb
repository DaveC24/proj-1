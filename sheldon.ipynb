{
 "cells": [
  {
   "cell_type": "code",
   "execution_count": null,
   "id": "4fc02375-c13e-43ea-a289-753eda38e70c",
   "metadata": {},
   "outputs": [],
   "source": [
    "import pandas as pd\n",
    "import hvplot.pandas\n",
    "from MCForecastTools import MCSimulation\n",
    "import matplotlib as plt\n",
    "%matplotlib inline\n",
    "import numpy as np\n",
    "import yfinance as yf\n",
    "import datetime as dt\n",
    "from pandas_datareader import data\n",
    "import pandas_datareader as pdr\n",
    "import holoviews as hv\n",
    "from datetime import timedelta\n",
    "from pathlib import Path"
   ]
  },
  {
   "cell_type": "code",
   "execution_count": null,
   "id": "46224991-d256-4b7a-9a9d-331ad60a7140",
   "metadata": {},
   "outputs": [],
   "source": [
    "tickers = ['AAPL', 'FB', 'GILD', 'NSRGY', 'T', 'BIIB', 'MCHP', 'NFLX','IBM', 'V','SPY']\n",
    "start = dt.datetime(2021, 1, 1)\n",
    "end = dt.datetime(2022,7,26)\n",
    " \n",
    "data = pdr.get_data_yahoo(tickers, start,end)\n",
    "data = data['Adj Close']"
   ]
  },
  {
   "cell_type": "code",
   "execution_count": null,
   "id": "08018284-8a1f-4502-890a-d3c397882647",
   "metadata": {},
   "outputs": [],
   "source": [
    "#change \n",
    "shel_df = data.dropna()\n",
    "shel_df "
   ]
  },
  {
   "cell_type": "code",
   "execution_count": null,
   "id": "fb16d731-5ae0-489b-9a26-17998e2e8269",
   "metadata": {},
   "outputs": [],
   "source": [
    "shel_returns = shel_df.pct_change().dropna()\n",
    "shel_returns"
   ]
  },
  {
   "cell_type": "code",
   "execution_count": null,
   "id": "70377652-215c-4455-a8e8-f7a854db9cf7",
   "metadata": {},
   "outputs": [],
   "source": [
    "#Days in trading\n",
    "days_in_trading = 252"
   ]
  },
  {
   "cell_type": "code",
   "execution_count": null,
   "id": "f1ee75ed-9df1-4f87-bb29-4f1dcd3e484a",
   "metadata": {},
   "outputs": [],
   "source": [
    "#cummulative Returns of Dataframe\n",
    "shel_cum_returns = (1 + shel_returns).cumprod()\n",
    "shel_cum_returns"
   ]
  },
  {
   "cell_type": "code",
   "execution_count": null,
   "id": "85d0d429-d22e-4497-a778-fb81f5d8d47f",
   "metadata": {},
   "outputs": [],
   "source": [
    "trading_days = 252 \n",
    "one_year_average_shel_return = shel_df.mean() * trading_days\n",
    "one_year_average_shel_return"
   ]
  },
  {
   "cell_type": "code",
   "execution_count": null,
   "id": "2adbefeb-7a6b-4a78-825f-85ad039aca8c",
   "metadata": {},
   "outputs": [],
   "source": [
    "one_year_average_shel_return.sort_values()"
   ]
  },
  {
   "cell_type": "code",
   "execution_count": null,
   "id": "2c0603cb-acad-4ec2-81be-1ec073b5bbf4",
   "metadata": {},
   "outputs": [],
   "source": [
    "one_year_shel_std = shel_df.std() * np.sqrt(trading_days)\n",
    "one_year_shel_std.sort_values()"
   ]
  },
  {
   "cell_type": "code",
   "execution_count": null,
   "id": "5cd21d14-b3a1-4163-94ec-0e68438688f3",
   "metadata": {},
   "outputs": [],
   "source": [
    "one_year_shel_sharpe_ratio = one_year_average_shel_return / one_year_shel_std\n",
    "one_year_shel_sharpe_ratio"
   ]
  },
  {
   "cell_type": "code",
   "execution_count": null,
   "id": "38240163-d158-4c3f-85b8-948488aa8e1a",
   "metadata": {},
   "outputs": [],
   "source": [
    "one_year_pelosi_sharpe_ratio.sort_values()"
   ]
  },
  {
   "cell_type": "code",
   "execution_count": null,
   "id": "a8c5f0c7-3dc8-48b6-bfe9-c335b941292d",
   "metadata": {},
   "outputs": [],
   "source": [
    "# Beta, covariance and Variance \n",
    "shel_variance = shel_returns.var()\n",
    "shel_variance"
   ]
  },
  {
   "cell_type": "code",
   "execution_count": null,
   "id": "19d33b31-f306-4922-b34b-f8dc4e8bc1af",
   "metadata": {},
   "outputs": [],
   "source": [
    "shel_spy_df = pd.concat([shel_df, spy_df], join=\"inner\", axis=1 )\n",
    "shel_spy_df.head()"
   ]
  },
  {
   "cell_type": "code",
   "execution_count": null,
   "id": "a74255dc-5836-406a-a30e-e85e9846eb8f",
   "metadata": {},
   "outputs": [],
   "source": [
    "shel_stocks= pd.read_csv(Path(\"./shel_returns.csv\"), parse_dates = True, infer_datetime_format = True,)"
   ]
  },
  {
   "cell_type": "code",
   "execution_count": null,
   "id": "6ab0dc6b-f05b-4e9e-a3a1-6048934afd3c",
   "metadata": {},
   "outputs": [],
   "source": [
    "shel_funds = shel_stocks.drop(columns=['Unnamed: 4','Unnamed: 5','Unnamed: 6','Unnamed: 7','Unnamed: 8'])\n",
    "shel_funds"
   ]
  },
  {
   "cell_type": "code",
   "execution_count": null,
   "id": "fe7debc2-2335-4a24-bf36-250b1caddb47",
   "metadata": {},
   "outputs": [],
   "source": [
    "shel_funds['Sharp'].plot(figsize=(10,7), title = \"Sheldon Whitehouse Sharp Ratio Return\")"
   ]
  },
  {
   "cell_type": "code",
   "execution_count": null,
   "id": "14d9a2c0-b9cb-464f-aaed-7a09b753888e",
   "metadata": {},
   "outputs": [],
   "source": [
    "shel_funds['1 year returns'].plot(figsize=(10,7), title = \"Sheldon Whitehouse 1 Year Returns\")"
   ]
  },
  {
   "cell_type": "code",
   "execution_count": null,
   "id": "e9256bb8-06c3-4d11-bcc6-bd7553fbb06b",
   "metadata": {},
   "outputs": [],
   "source": [
    "shel_funds['1 year risk'].plot(figsize=(10,7), title = \"Sheldon Whitehouse 1 year Risk\")"
   ]
  },
  {
   "cell_type": "code",
   "execution_count": null,
   "id": "0f6a8b9f-8a23-4291-8283-304050e8c922",
   "metadata": {},
   "outputs": [],
   "source": [
    "shel_cum_returns.plot(figsize=(10,7), title = \"Sheldon Whitehouse Fund returns\")"
   ]
  },
  {
   "cell_type": "code",
   "execution_count": null,
   "id": "5df632cd-68c7-4a44-9163-da205667b745",
   "metadata": {},
   "outputs": [],
   "source": [
    "ax = spy_cum_returns.plot(\n",
    "    legend=\"True\",\n",
    "    figsize=(10,5),\n",
    "    title=\"SPY Vs Pelosi\")\n",
    "shel_cum_returns.plot(ax=ax)\n",
    "ax.legend([\"Sheldon Whitehouse, SPY\"])"
   ]
  },
  {
   "cell_type": "code",
   "execution_count": null,
   "id": "033c7f39-7247-4f50-9e0e-52c40bb58bef",
   "metadata": {},
   "outputs": [],
   "source": [
    "shel_cum_returns.plot(kind='box')"
   ]
  },
  {
   "cell_type": "code",
   "execution_count": null,
   "id": "4a9946e9-5d60-4478-8ccb-91586619910c",
   "metadata": {},
   "outputs": [],
   "source": [
    "spy_cum_returns.plot(kind='box')"
   ]
  },
  {
   "cell_type": "code",
   "execution_count": null,
   "id": "59c90f0b-802b-4896-af8e-b1fe7552d902",
   "metadata": {},
   "outputs": [],
   "source": [
    "spy_std_180_day_rolling = spy_cum_returns[\"SPY\"].rolling(window=180).std().plot( figsize=(10,7), title = \" Spy 6 month SMA\")"
   ]
  },
  {
   "cell_type": "code",
   "execution_count": null,
   "id": "b5f52cc3-5bbd-4499-b22d-52e56cfe5341",
   "metadata": {},
   "outputs": [],
   "source": [
    "spy_std_365_day_rolling = pelosi_cum_returns[\"AAPL\"].rolling(window=180).std().plot( figsize=(10,7), title = \"Sheldon Whitehouse 6 month AAPL SMA\")"
   ]
  },
  {
   "cell_type": "code",
   "execution_count": null,
   "id": "7bdf5796-00c6-48c8-b8dc-8d5037a2a727",
   "metadata": {},
   "outputs": [],
   "source": [
    "one_year_average_shel_return = shel_cum_returns.rolling(window=180).mean()\n",
    "one_year_average_shel_return.dropna()"
   ]
  },
  {
   "cell_type": "code",
   "execution_count": null,
   "id": "7cd82989-439b-4ed6-93fa-05a63ec11a74",
   "metadata": {},
   "outputs": [],
   "source": [
    "sharp_ratio_portfolio = one_year_average_Shel_return / one_year_pelosi_std\n",
    "sharp_ratio_portfolio.hvplot( title = \"Sheldon Whitehouse Sharp Ratio\")"
   ]
  },
  {
   "cell_type": "code",
   "execution_count": null,
   "id": "5a5988bc-3370-4391-a037-8140389f0bd3",
   "metadata": {},
   "outputs": [],
   "source": [
    "shel_rolling_180_covariance = shel_cum_returns['AAPL'].rolling(window=180).cov(spy_cum_returns['SPY'])\n",
    "shel_rolling_180_covariance.plot(figsize=(10,7), title= \" Sheldon Whitehouse Covariance for APPLE\")"
   ]
  },
  {
   "cell_type": "code",
   "execution_count": null,
   "id": "a26d9b04-1a81-44d0-80a2-375b42abe45e",
   "metadata": {},
   "outputs": [],
   "source": [
    "shel_rolling_180_covariance = shel_cum_returns['TSLA'].rolling(window=180).cov(spy_cum_returns['SPY'])\n",
    "shel_rolling_180_covariance.plot(figsize=(10,7), title= \" Sheldon Whitehouse Covariance for AAPL \")"
   ]
  },
  {
   "cell_type": "code",
   "execution_count": null,
   "id": "6e47c502-e355-4927-ad68-fd938c9a3f48",
   "metadata": {},
   "outputs": [],
   "source": [
    "shel_aapl_beta = shel_cum_returns['AAPL'].cov(spy_cum_returns['SPY']) / spy_cum_returns['SPY'].var()\n",
    "shel_aapl_beta"
   ]
  },
  {
   "cell_type": "code",
   "execution_count": null,
   "id": "dfdb5bd2-9f45-4df1-91f4-93ba8e52d7fc",
   "metadata": {},
   "outputs": [],
   "source": [
    "shel_v_beta = shel_cum_returns['V'].cov(spy_cum_returns['SPY']) / spy_cum_returns['SPY'].var()\n",
    "shel_v_beta"
   ]
  },
  {
   "cell_type": "code",
   "execution_count": null,
   "id": "6b8534bb-236a-4cb6-96d4-6c7349455246",
   "metadata": {},
   "outputs": [],
   "source": [
    "shel_msft_beta = pelosi_cum_returns['MSFT'].cov(spy_cum_returns['SPY']) / spy_cum_returns['SPY'].var()\n",
    "shel_msft_beta"
   ]
  },
  {
   "cell_type": "code",
   "execution_count": null,
   "id": "829f2c9a-b036-4181-acbd-790d6a840c60",
   "metadata": {},
   "outputs": [],
   "source": [
    "shel_tsla_beta = shel_cum_returns['TSLA'].cov(spy_cum_returns['SPY']) / spy_cum_returns['SPY'].var()\n",
    "shel_tsla_beta"
   ]
  }
 ],
 "metadata": {
  "kernelspec": {
   "display_name": "Python 3 (ipykernel)",
   "language": "python",
   "name": "python3"
  },
  "language_info": {
   "codemirror_mode": {
    "name": "ipython",
    "version": 3
   },
   "file_extension": ".py",
   "mimetype": "text/x-python",
   "name": "python",
   "nbconvert_exporter": "python",
   "pygments_lexer": "ipython3",
   "version": "3.7.13"
  }
 },
 "nbformat": 4,
 "nbformat_minor": 5
}
